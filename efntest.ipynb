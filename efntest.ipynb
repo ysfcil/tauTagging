{
 "cells": [
  {
   "cell_type": "code",
   "execution_count": 1,
   "metadata": {},
   "outputs": [
    {
     "name": "stdout",
     "output_type": "stream",
     "text": [
      "WARNING:tensorflow:From c:\\Users\\yusuf\\OneDrive\\Masaüstü\\mlforphyscis\\activate\\lib\\site-packages\\tf_keras\\src\\losses.py:2976: The name tf.losses.sparse_softmax_cross_entropy is deprecated. Please use tf.compat.v1.losses.sparse_softmax_cross_entropy instead.\n",
      "\n"
     ]
    }
   ],
   "source": [
    "import numpy as np\n",
    "import gc\n",
    "import energyflow as ef\n",
    "import pandas as pd\n",
    "from energyflow.archs import EFN\n",
    "import matplotlib.pyplot as plt\n",
    "import awkward as ak\n",
    "from energyflow.utils import to_categorical\n"
   ]
  },
  {
   "cell_type": "code",
   "execution_count": 2,
   "metadata": {},
   "outputs": [],
   "source": [
    "from energyflow.archs import PFN"
   ]
  },
  {
   "cell_type": "code",
   "execution_count": 3,
   "metadata": {},
   "outputs": [],
   "source": [
    "qq_test = ak.from_parquet(\"my_qqcand_test.parquet\")"
   ]
  },
  {
   "cell_type": "code",
   "execution_count": 4,
   "metadata": {},
   "outputs": [
    {
     "data": {
      "text/html": [
       "<pre>[{reco_cand_p4s: [{x: -0.787, y: -1.56, ...}], reco_cand_charge: [0], ...},\n",
       " {reco_cand_p4s: [{x: 18.2, ...}, ..., {...}], reco_cand_charge: [...], ...},\n",
       " {reco_cand_p4s: [{x: 0.151, y: 0.0115, ...}], reco_cand_charge: [0], ...},\n",
       " {reco_cand_p4s: [{x: -0.851, ...}, ...], reco_cand_charge: [...], ...},\n",
       " {reco_cand_p4s: [{x: 0.0764, y: 0.107, ...}], reco_cand_charge: [0], ...},\n",
       " {reco_cand_p4s: [{x: 0.0939, y: 0.159, ...}], reco_cand_charge: [0], ...},\n",
       " {reco_cand_p4s: [{x: -0.0852, ...}, ...], reco_cand_charge: [...], ...},\n",
       " {reco_cand_p4s: [{x: 0.015, y: -0.534, ...}], reco_cand_charge: [0], ...},\n",
       " {reco_cand_p4s: [{x: 0.0426, y: 0.336, ...}], reco_cand_charge: [-1], ...},\n",
       " {reco_cand_p4s: [{x: 0.114, y: 0.0623, ...}], reco_cand_charge: [0], ...},\n",
       " ...,\n",
       " {reco_cand_p4s: [{x: 37.4, ...}, ..., {...}], reco_cand_charge: [...], ...},\n",
       " {reco_cand_p4s: [{x: 0.00665, ...}, ...], reco_cand_charge: [...], ...},\n",
       " {reco_cand_p4s: [{x: -9.79, ...}, ...], reco_cand_charge: [...], ...},\n",
       " {reco_cand_p4s: [{x: 59.2, ...}, ..., {...}], reco_cand_charge: [...], ...},\n",
       " {reco_cand_p4s: [{x: -1.16, ...}, ...], reco_cand_charge: [...], ...},\n",
       " {reco_cand_p4s: [{x: 0.502, ...}, ...], reco_cand_charge: [...], ...},\n",
       " {reco_cand_p4s: [{x: -0.15, ...}, ...], reco_cand_charge: [...], ...},\n",
       " {reco_cand_p4s: [{x: 0.119, y: 0.59, ...}], reco_cand_charge: [0], ...},\n",
       " {reco_cand_p4s: [{x: 0.0277, y: ..., ...}], reco_cand_charge: [-1], ...}]\n",
       "-----------------------------------------------------------------------------\n",
       "type: 6366715 * {\n",
       "    reco_cand_p4s: var * Momentum4D[\n",
       "        x: float64,\n",
       "        y: float64,\n",
       "        z: float64,\n",
       "        tau: float64\n",
       "    ],\n",
       "    reco_cand_charge: var * float64,\n",
       "    reco_cand_pdg: var * int64,\n",
       "    reco_jet_p4s: Momentum4D[\n",
       "        x: float64,\n",
       "        y: float64,\n",
       "        z: float64,\n",
       "        tau: float64\n",
       "    ],\n",
       "    reco_cand_dxy: var * float64,\n",
       "    reco_cand_dz: var * float64,\n",
       "    reco_cand_dxy_err: var * float64,\n",
       "    reco_cand_dz_err: var * float64,\n",
       "    gen_jet_p4s: Momentum4D[\n",
       "        x: float64,\n",
       "        y: float64,\n",
       "        z: float64,\n",
       "        tau: float64\n",
       "    ],\n",
       "    gen_jet_tau_decaymode: int64,\n",
       "    gen_jet_tau_p4s: Momentum4D[\n",
       "        x: float64,\n",
       "        y: float64,\n",
       "        z: float64,\n",
       "        tau: float64\n",
       "    ],\n",
       "    &quot;4momentum&quot;: var * Momentum4D[\n",
       "        rho: float64,\n",
       "        phi: float64,\n",
       "        eta: float64,\n",
       "        t: float64\n",
       "    ]\n",
       "}</pre>"
      ],
      "text/plain": [
       "<Array [{reco_cand_p4s: [{...}], ...}, ...] type='6366715 * {reco_cand_p4s:...'>"
      ]
     },
     "execution_count": 4,
     "metadata": {},
     "output_type": "execute_result"
    }
   ],
   "source": [
    "qq_test"
   ]
  },
  {
   "cell_type": "markdown",
   "metadata": {},
   "source": [
    "reading the angular 4 momentums created in data_intro"
   ]
  },
  {
   "cell_type": "code",
   "execution_count": 5,
   "metadata": {},
   "outputs": [],
   "source": [
    "#reading data\n",
    "zh = ak.from_parquet(r\"my_zhcand.parquet\")\n",
    "z = ak.from_parquet(r\"C:\\Users\\yusuf\\OneDrive\\Masaüstü\\mlforphyscis\\my_zcand.parquet\")\n",
    "qq = ak.from_parquet(r\"C:\\Users\\yusuf\\OneDrive\\Masaüstü\\mlforphyscis\\my_qqcand.parquet\")"
   ]
  },
  {
   "cell_type": "code",
   "execution_count": 6,
   "metadata": {},
   "outputs": [],
   "source": [
    "zh_pid = ak.from_parquet(r\"C:\\Users\\yusuf\\OneDrive\\Masaüstü\\mlforphyscis\\my_pid_zh.parquet\")\n",
    "z_pid = ak.from_parquet(\"my_pid_z.parquet\")\n",
    "qq_pid = ak.from_parquet(\"my_pid_qq.parquet\")"
   ]
  },
  {
   "cell_type": "code",
   "execution_count": 7,
   "metadata": {},
   "outputs": [
    {
     "data": {
      "text/html": [
       "<pre>[[{rho: 21.6, phi: 1.48, eta: 1.37, t: 45.3}, ..., {rho: 2.53, phi: 1.44, ...}],\n",
       " [{rho: 107, phi: -1.42, eta: -0.452, t: 118}, {...}, ..., {rho: 0.0557, ...}],\n",
       " [{rho: 35.3, phi: -0.0451, eta: -0.364, t: 37.6}, ..., {rho: 18.2, ...}],\n",
       " [{rho: 15.5, phi: -1.72, eta: -0.183, t: 15.8}],\n",
       " [{rho: 51.2, phi: 0.537, eta: 0.836, t: 70.1}, {...}, ..., {rho: 5.84, ...}],\n",
       " [{rho: 67.8, phi: 1.18, eta: 0.397, t: 73.2}, {rho: 1.13, phi: ..., ...}],\n",
       " [{rho: 42.6, phi: 2.39, eta: -0.623, t: 51.1}, {...}, {rho: 0.762, ...}],\n",
       " [{rho: 7.29, phi: 0.384, eta: -1.26, t: 13.8}, {rho: 0.236, ...}],\n",
       " [{rho: 19.2, phi: 0.455, eta: 0.208, t: 19.6}, {...}, ..., {rho: 2.48, ...}],\n",
       " [{rho: 74.8, phi: -0.735, eta: 0.962, t: 112}, {...}, {rho: 8.52, ...}],\n",
       " ...,\n",
       " [{rho: 57.3, phi: 0.809, eta: -0.0841, t: 57.5}, {...}, ..., {rho: 9.97, ...}],\n",
       " [{rho: 35.7, phi: -2.4, eta: 0.678, t: 44.2}, {...}, ..., {rho: 0.288, ...}],\n",
       " [{rho: 57.5, phi: 1.69, eta: -0.482, t: 64.3}, {...}, ..., {rho: 0.541, ...}],\n",
       " [{rho: 14.3, phi: -1.27, eta: 0.505, t: 16.2}, {...}, {rho: 5.77, ...}],\n",
       " [{rho: 54.6, phi: -2.42, eta: 0.45, t: 60.2}, ..., {rho: 1.03, phi: ..., ...}],\n",
       " [{rho: 19.7, phi: -1.35, eta: -1.18, t: 34.9}, {...}, ..., {rho: 0.416, ...}],\n",
       " [{rho: 47.2, phi: 2.69, eta: 0.38, t: 50.7}, {rho: 11, phi: 2.66, ...}],\n",
       " [{rho: 57, phi: -1.13, eta: -0.658, t: 69.9}, ..., {rho: 7.86, phi: ..., ...}],\n",
       " [{rho: 30.1, phi: 1.56, eta: -0.545, t: 34.6}, {...}, ..., {rho: 0.153, ...}]]\n",
       "--------------------------------------------------------------------------------\n",
       "type: 2087907 * var * Momentum4D[\n",
       "    rho: float64,\n",
       "    phi: float64,\n",
       "    eta: float64,\n",
       "    t: float64\n",
       "]</pre>"
      ],
      "text/plain": [
       "<Array [[{rho: 21.6, phi: ..., ...}, ...], ...] type='2087907 * var * Momen...'>"
      ]
     },
     "execution_count": 7,
     "metadata": {},
     "output_type": "execute_result"
    }
   ],
   "source": [
    "zh"
   ]
  },
  {
   "cell_type": "markdown",
   "metadata": {},
   "source": [
    "padding and filling the data to even jet sizes with 0 particles\n",
    "also some preprocessing"
   ]
  },
  {
   "cell_type": "code",
   "execution_count": 8,
   "metadata": {},
   "outputs": [],
   "source": [
    "import itertools as IT\n",
    "#function that separates data and formats it for EFN returns the pt and phat values\n",
    "def to_efn(data):\n",
    "    data_phat = data[:][[\"eta\",\"phi\"]]\n",
    "    data_rho = data[:][\"rho\"]\n",
    "    data_rho_padded = ak.pad_none(data_rho, target=80, clip = True)\n",
    "    data_rho_padded_filled = ak.fill_none(data_rho_padded, 0)\n",
    "    data_phat_padded = ak.pad_none(data_phat,target=80, clip =True)\n",
    "    data_phat_padded_filled = ak.fill_none(data_phat_padded, value = {\"eta\": 0, \"phi\": 0})\n",
    "\n",
    "    test = ak.to_numpy(data_phat_padded_filled)\n",
    "    data_phat = test.view(((float, len(test.dtype.names))))\n",
    "\n",
    "    data_rho_padded_filled = np.asarray(data_rho_padded_filled).astype('float32')\n",
    "    x = 0\n",
    "    for jet_rho, jet_phat in zip(data_rho_padded_filled, data_phat):\n",
    "        jet_rho /= jet_rho.sum()\n",
    "        phi_average = np.average(jet_phat,axis=0, weights=jet_rho)\n",
    "        jet_phat -=phi_average\n",
    "\n",
    "    return  data_phat, data_rho_padded_filled"
   ]
  },
  {
   "cell_type": "code",
   "execution_count": 9,
   "metadata": {},
   "outputs": [],
   "source": [
    "qq_pid = ak.fill_none(ak.pad_none(qq_pid, target=80, clip=True),0)\n",
    "zh_pid = ak.fill_none(ak.pad_none(zh_pid, target=80, clip=True),0)\n",
    "z_pid = ak.fill_none(ak.pad_none(z_pid, target=80, clip=True),0)"
   ]
  },
  {
   "cell_type": "code",
   "execution_count": 10,
   "metadata": {},
   "outputs": [],
   "source": [
    "qq_phat, qq_rho = to_efn(qq)\n",
    "zh_phat , zh_rho =to_efn(zh)\n",
    "z_phat , z_rho =to_efn(z)"
   ]
  },
  {
   "cell_type": "code",
   "execution_count": 11,
   "metadata": {},
   "outputs": [
    {
     "data": {
      "text/plain": [
       "129"
      ]
     },
     "execution_count": 11,
     "metadata": {},
     "output_type": "execute_result"
    }
   ],
   "source": [
    "del qq, zh, z\n",
    "gc.collect()"
   ]
  },
  {
   "cell_type": "code",
   "execution_count": 12,
   "metadata": {},
   "outputs": [],
   "source": [
    "rhos = np.vstack((qq_rho, zh_rho, z_rho))#combining the 3 data sources"
   ]
  },
  {
   "cell_type": "code",
   "execution_count": 13,
   "metadata": {},
   "outputs": [],
   "source": [
    "phats = np.vstack((qq_phat, zh_phat, z_phat))"
   ]
  },
  {
   "cell_type": "markdown",
   "metadata": {},
   "source": [
    "target values are based on data sources so I can just open some arrays of same size to use as label"
   ]
  },
  {
   "cell_type": "code",
   "execution_count": 14,
   "metadata": {},
   "outputs": [],
   "source": [
    "zh_target = np.ones(len(zh_rho)) #our normal target data is tau decay mode yet this is needlesly complicated\n",
    "z_target = np.ones(len(z_rho)) #it has 17 differenet values based on the decaymode which is unlike the 1 and 0 we want\n",
    "qq_target = np.zeros(len(qq_rho))#we know our resources corrospond to the targey values so i will just use this"
   ]
  },
  {
   "cell_type": "code",
   "execution_count": 15,
   "metadata": {},
   "outputs": [
    {
     "data": {
      "text/plain": [
       "0"
      ]
     },
     "execution_count": 15,
     "metadata": {},
     "output_type": "execute_result"
    }
   ],
   "source": [
    "del qq_phat, qq_rho, zh_phat, zh_rho, z_phat, z_rho\n",
    "gc.collect()"
   ]
  },
  {
   "cell_type": "code",
   "execution_count": 16,
   "metadata": {},
   "outputs": [],
   "source": [
    "Yzh = to_categorical(zh_target, num_classes=2)#number of classes represent background or signal both having 0 and 1\n",
    "Yz = to_categorical(z_target, num_classes=2)\n",
    "Yqq = to_categorical(qq_target, num_classes=2)"
   ]
  },
  {
   "cell_type": "code",
   "execution_count": 17,
   "metadata": {},
   "outputs": [],
   "source": [
    "Y = np.vstack((Yqq, Yzh, Yz))"
   ]
  },
  {
   "cell_type": "code",
   "execution_count": 18,
   "metadata": {},
   "outputs": [
    {
     "data": {
      "text/plain": [
       "0"
      ]
     },
     "execution_count": 18,
     "metadata": {},
     "output_type": "execute_result"
    }
   ],
   "source": [
    "del Yzh,Yz,Yqq, qq_target, zh_target, z_target\n",
    "gc.collect()"
   ]
  },
  {
   "cell_type": "code",
   "execution_count": 19,
   "metadata": {},
   "outputs": [
    {
     "data": {
      "text/plain": [
       "array([[[-5.28339658e-03, -1.86498190e-01],\n",
       "        [-2.71266722e-02, -2.37941057e-01],\n",
       "        [-1.19913056e-02, -1.85120306e-01],\n",
       "        ...,\n",
       "        [-1.21919647e+00,  2.83643672e+00],\n",
       "        [-1.21919647e+00,  2.83643672e+00],\n",
       "        [-1.21919647e+00,  2.83643672e+00]],\n",
       "\n",
       "       [[ 7.13921796e-02, -1.26907055e-02],\n",
       "        [-4.96455707e-02,  9.29890300e-02],\n",
       "        [-2.78922896e-02, -1.41268417e-01],\n",
       "        ...,\n",
       "        [ 1.08857455e+00,  2.67853409e+00],\n",
       "        [ 1.08857455e+00,  2.67853409e+00],\n",
       "        [ 1.08857455e+00,  2.67853409e+00]],\n",
       "\n",
       "       [[ 2.07151697e-02,  2.57667783e-02],\n",
       "        [-1.26292540e-01,  2.32466295e-02],\n",
       "        [ 3.12081838e-01, -1.40202175e-01],\n",
       "        ...,\n",
       "        [-6.63359465e-03,  9.87806753e-02],\n",
       "        [-6.63359465e-03,  9.87806753e-02],\n",
       "        [-6.63359465e-03,  9.87806753e-02]],\n",
       "\n",
       "       ...,\n",
       "\n",
       "       [[ 0.00000000e+00,  0.00000000e+00],\n",
       "        [-6.28031118e-03,  2.51240529e-02],\n",
       "        [-6.28031118e-03,  2.51240529e-02],\n",
       "        ...,\n",
       "        [-6.28031118e-03,  2.51240529e-02],\n",
       "        [-6.28031118e-03,  2.51240529e-02],\n",
       "        [-6.28031118e-03,  2.51240529e-02]],\n",
       "\n",
       "       [[ 1.71255680e-03, -1.47554956e-02],\n",
       "        [-1.12175360e-02,  3.54202571e-02],\n",
       "        [ 1.39811323e-02, -2.95438622e-02],\n",
       "        ...,\n",
       "        [-1.49121798e+00, -2.51455605e+00],\n",
       "        [-1.49121798e+00, -2.51455605e+00],\n",
       "        [-1.49121798e+00, -2.51455605e+00]],\n",
       "\n",
       "       [[ 1.72206416e-03, -3.35948671e-03],\n",
       "        [-1.85710711e-02, -8.79441593e-03],\n",
       "        [ 1.19800784e-02,  9.70589224e-03],\n",
       "        ...,\n",
       "        [ 1.73294918e-01,  1.07114371e+00],\n",
       "        [ 1.73294918e-01,  1.07114371e+00],\n",
       "        [ 1.73294918e-01,  1.07114371e+00]]])"
      ]
     },
     "execution_count": 19,
     "metadata": {},
     "output_type": "execute_result"
    }
   ],
   "source": [
    "phats"
   ]
  },
  {
   "cell_type": "code",
   "execution_count": 20,
   "metadata": {},
   "outputs": [],
   "source": [
    "from energyflow.utils import data_split\n",
    "(z_train, z_val, z_test,\n",
    " p_train, p_val, p_test,\n",
    " Y_train, Y_val, Y_test) = data_split(rhos, phats, Y, val=0.4, test=0.1, shuffle = True)\n"
   ]
  },
  {
   "cell_type": "code",
   "execution_count": 21,
   "metadata": {},
   "outputs": [],
   "source": [
    "np.save(\"z_train.npy\", z_train)\n",
    "np.save(\"z_val.npy\", z_val)\n",
    "np.save(\"p_train.npy\", p_train)\n",
    "np.save(\"p_val.npy\", p_val)\n",
    "np.save(\"Y_train.npy\", Y_train)\n",
    "np.save(\"Y_val.npy\", Y_val)\n"
   ]
  },
  {
   "cell_type": "markdown",
   "metadata": {},
   "source": [
    "model"
   ]
  },
  {
   "cell_type": "code",
   "execution_count": null,
   "metadata": {},
   "outputs": [
    {
     "name": "stdout",
     "output_type": "stream",
     "text": [
      "WARNING:tensorflow:From c:\\Users\\yusuf\\OneDrive\\Masaüstü\\mlforphyscis\\activate\\lib\\site-packages\\tf_keras\\src\\backend.py:1400: The name tf.executing_eagerly_outside_functions is deprecated. Please use tf.compat.v1.executing_eagerly_outside_functions instead.\n",
      "\n",
      "WARNING:tensorflow:From c:\\Users\\yusuf\\OneDrive\\Masaüstü\\mlforphyscis\\activate\\lib\\site-packages\\tf_keras\\src\\optimizers\\__init__.py:317: The name tf.train.Optimizer is deprecated. Please use tf.compat.v1.train.Optimizer instead.\n",
      "\n",
      "Model: \"model\"\n",
      "__________________________________________________________________________________________________\n",
      " Layer (type)                Output Shape                 Param #   Connected to                  \n",
      "==================================================================================================\n",
      " input (InputLayer)          [(None, None, 2)]            0         []                            \n",
      "                                                                                                  \n",
      " tdist_0 (TimeDistributed)   (None, None, 100)            300       ['input[0][0]']               \n",
      "                                                                                                  \n",
      " activation (Activation)     (None, None, 100)            0         ['tdist_0[0][0]']             \n",
      "                                                                                                  \n",
      " tdist_1 (TimeDistributed)   (None, None, 100)            10100     ['activation[0][0]']          \n",
      "                                                                                                  \n",
      " activation_1 (Activation)   (None, None, 100)            0         ['tdist_1[0][0]']             \n",
      "                                                                                                  \n",
      " tdist_2 (TimeDistributed)   (None, None, 128)            12928     ['activation_1[0][0]']        \n",
      "                                                                                                  \n",
      " mask (Lambda)               (None, None)                 0         ['input[0][0]']               \n",
      "                                                                                                  \n",
      " activation_2 (Activation)   (None, None, 128)            0         ['tdist_2[0][0]']             \n",
      "                                                                                                  \n",
      " sum (Dot)                   (None, 128)                  0         ['mask[0][0]',                \n",
      "                                                                     'activation_2[0][0]']        \n",
      "                                                                                                  \n",
      " dense_0 (Dense)             (None, 100)                  12900     ['sum[0][0]']                 \n",
      "                                                                                                  \n",
      " activation_3 (Activation)   (None, 100)                  0         ['dense_0[0][0]']             \n",
      "                                                                                                  \n",
      " dense_1 (Dense)             (None, 100)                  10100     ['activation_3[0][0]']        \n",
      "                                                                                                  \n",
      " activation_4 (Activation)   (None, 100)                  0         ['dense_1[0][0]']             \n",
      "                                                                                                  \n",
      " dense_2 (Dense)             (None, 100)                  10100     ['activation_4[0][0]']        \n",
      "                                                                                                  \n",
      " activation_5 (Activation)   (None, 100)                  0         ['dense_2[0][0]']             \n",
      "                                                                                                  \n",
      " output (Dense)              (None, 2)                    202       ['activation_5[0][0]']        \n",
      "                                                                                                  \n",
      " activation_6 (Activation)   (None, 2)                    0         ['output[0][0]']              \n",
      "                                                                                                  \n",
      "==================================================================================================\n",
      "Total params: 56630 (221.21 KB)\n",
      "Trainable params: 56630 (221.21 KB)\n",
      "Non-trainable params: 0 (0.00 Byte)\n",
      "__________________________________________________________________________________________________\n"
     ]
    },
    {
     "ename": "MemoryError",
     "evalue": "Unable to allocate 4.61 GiB for an array with shape (3864632, 80, 2) and data type float64",
     "output_type": "error",
     "traceback": [
      "\u001b[1;31m---------------------------------------------------------------------------\u001b[0m",
      "\u001b[1;31mMemoryError\u001b[0m                               Traceback (most recent call last)",
      "Cell \u001b[1;32mIn[22], line 5\u001b[0m\n\u001b[0;32m      3\u001b[0m pfn \u001b[38;5;241m=\u001b[39m PFN(input_dim\u001b[38;5;241m=\u001b[39m\u001b[38;5;241m2\u001b[39m, Phi_sizes\u001b[38;5;241m=\u001b[39mPhi_sizes, F_sizes\u001b[38;5;241m=\u001b[39mF_sizes)\n\u001b[0;32m      4\u001b[0m \u001b[38;5;66;03m# train model\u001b[39;00m\n\u001b[1;32m----> 5\u001b[0m \u001b[43mpfn\u001b[49m\u001b[38;5;241;43m.\u001b[39;49m\u001b[43mfit\u001b[49m\u001b[43m(\u001b[49m\u001b[43mp_train\u001b[49m\u001b[43m,\u001b[49m\u001b[43m \u001b[49m\u001b[43mY_train\u001b[49m\u001b[43m,\u001b[49m\n\u001b[0;32m      6\u001b[0m \u001b[43m        \u001b[49m\u001b[43mepochs\u001b[49m\u001b[38;5;241;43m=\u001b[39;49m\u001b[38;5;241;43m5\u001b[39;49m\u001b[43m,\u001b[49m\n\u001b[0;32m      7\u001b[0m \u001b[43m        \u001b[49m\u001b[43mbatch_size\u001b[49m\u001b[38;5;241;43m=\u001b[39;49m\u001b[38;5;241;43m500\u001b[39;49m\u001b[43m,\u001b[49m\u001b[43m \u001b[49m\u001b[43mvalidation_data\u001b[49m\u001b[38;5;241;43m=\u001b[39;49m\u001b[43m(\u001b[49m\u001b[43mp_val\u001b[49m\u001b[43m,\u001b[49m\u001b[43m \u001b[49m\u001b[43mY_val\u001b[49m\u001b[43m)\u001b[49m\u001b[43m,\u001b[49m\n\u001b[0;32m      8\u001b[0m \u001b[43m        \u001b[49m\u001b[43mverbose\u001b[49m\u001b[38;5;241;43m=\u001b[39;49m\u001b[38;5;241;43m1\u001b[39;49m\u001b[43m)\u001b[49m\n\u001b[0;32m      9\u001b[0m \u001b[38;5;66;03m#fit\u001b[39;00m\n",
      "File \u001b[1;32mc:\\Users\\yusuf\\OneDrive\\Masaüstü\\mlforphyscis\\activate\\lib\\site-packages\\energyflow\\archs\\archbase.py:367\u001b[0m, in \u001b[0;36mNNBase.fit\u001b[1;34m(self, *args, **kwargs)\u001b[0m\n\u001b[0;32m    364\u001b[0m kwargs\u001b[38;5;241m.\u001b[39msetdefault(\u001b[38;5;124m'\u001b[39m\u001b[38;5;124mcallbacks\u001b[39m\u001b[38;5;124m'\u001b[39m, [])\u001b[38;5;241m.\u001b[39mextend(callbacks)\n\u001b[0;32m    366\u001b[0m \u001b[38;5;66;03m# do the fitting\u001b[39;00m\n\u001b[1;32m--> 367\u001b[0m hist \u001b[38;5;241m=\u001b[39m \u001b[38;5;28mself\u001b[39m\u001b[38;5;241m.\u001b[39mmodel\u001b[38;5;241m.\u001b[39mfit(\u001b[38;5;241m*\u001b[39margs, \u001b[38;5;241m*\u001b[39m\u001b[38;5;241m*\u001b[39mkwargs)\n\u001b[0;32m    369\u001b[0m \u001b[38;5;66;03m# handle saving at the end, if we weren't already saving throughout\u001b[39;00m\n\u001b[0;32m    370\u001b[0m \u001b[38;5;28;01mif\u001b[39;00m \u001b[38;5;28mself\u001b[39m\u001b[38;5;241m.\u001b[39mfilepath \u001b[38;5;129;01mand\u001b[39;00m \u001b[38;5;129;01mnot\u001b[39;00m \u001b[38;5;28mself\u001b[39m\u001b[38;5;241m.\u001b[39msave_while_training:\n",
      "File \u001b[1;32mc:\\Users\\yusuf\\OneDrive\\Masaüstü\\mlforphyscis\\activate\\lib\\site-packages\\tf_keras\\src\\utils\\traceback_utils.py:70\u001b[0m, in \u001b[0;36mfilter_traceback.<locals>.error_handler\u001b[1;34m(*args, **kwargs)\u001b[0m\n\u001b[0;32m     67\u001b[0m     filtered_tb \u001b[38;5;241m=\u001b[39m _process_traceback_frames(e\u001b[38;5;241m.\u001b[39m__traceback__)\n\u001b[0;32m     68\u001b[0m     \u001b[38;5;66;03m# To get the full stack trace, call:\u001b[39;00m\n\u001b[0;32m     69\u001b[0m     \u001b[38;5;66;03m# `tf.debugging.disable_traceback_filtering()`\u001b[39;00m\n\u001b[1;32m---> 70\u001b[0m     \u001b[38;5;28;01mraise\u001b[39;00m e\u001b[38;5;241m.\u001b[39mwith_traceback(filtered_tb) \u001b[38;5;28;01mfrom\u001b[39;00m \u001b[38;5;28;01mNone\u001b[39;00m\n\u001b[0;32m     71\u001b[0m \u001b[38;5;28;01mfinally\u001b[39;00m:\n\u001b[0;32m     72\u001b[0m     \u001b[38;5;28;01mdel\u001b[39;00m filtered_tb\n",
      "File \u001b[1;32mc:\\Users\\yusuf\\OneDrive\\Masaüstü\\mlforphyscis\\activate\\lib\\site-packages\\tensorflow\\python\\framework\\constant_op.py:96\u001b[0m, in \u001b[0;36mconvert_to_eager_tensor\u001b[1;34m(value, ctx, dtype)\u001b[0m\n\u001b[0;32m     76\u001b[0m \u001b[38;5;250m\u001b[39m\u001b[38;5;124;03m\"\"\"Converts the given `value` to an `EagerTensor`.\u001b[39;00m\n\u001b[0;32m     77\u001b[0m \n\u001b[0;32m     78\u001b[0m \u001b[38;5;124;03mNote that this function could return cached copies of created constants for\u001b[39;00m\n\u001b[1;32m   (...)\u001b[0m\n\u001b[0;32m     90\u001b[0m \u001b[38;5;124;03m  TypeError: if `dtype` is not compatible with the type of t.\u001b[39;00m\n\u001b[0;32m     91\u001b[0m \u001b[38;5;124;03m\"\"\"\u001b[39;00m\n\u001b[0;32m     92\u001b[0m \u001b[38;5;28;01mif\u001b[39;00m \u001b[38;5;28misinstance\u001b[39m(value, np\u001b[38;5;241m.\u001b[39mndarray):\n\u001b[0;32m     93\u001b[0m   \u001b[38;5;66;03m# Make a copy explicitly because the EagerTensor might share the underlying\u001b[39;00m\n\u001b[0;32m     94\u001b[0m   \u001b[38;5;66;03m# memory with the input array. Without this copy, users will be able to\u001b[39;00m\n\u001b[0;32m     95\u001b[0m   \u001b[38;5;66;03m# modify the EagerTensor after its creation by changing the input array.\u001b[39;00m\n\u001b[1;32m---> 96\u001b[0m   value \u001b[38;5;241m=\u001b[39m \u001b[43mvalue\u001b[49m\u001b[38;5;241;43m.\u001b[39;49m\u001b[43mcopy\u001b[49m\u001b[43m(\u001b[49m\u001b[43m)\u001b[49m\n\u001b[0;32m     97\u001b[0m \u001b[38;5;28;01mif\u001b[39;00m \u001b[38;5;28misinstance\u001b[39m(value, ops\u001b[38;5;241m.\u001b[39mEagerTensor):\n\u001b[0;32m     98\u001b[0m   \u001b[38;5;28;01mif\u001b[39;00m dtype \u001b[38;5;129;01mis\u001b[39;00m \u001b[38;5;129;01mnot\u001b[39;00m \u001b[38;5;28;01mNone\u001b[39;00m \u001b[38;5;129;01mand\u001b[39;00m value\u001b[38;5;241m.\u001b[39mdtype \u001b[38;5;241m!=\u001b[39m dtype:\n",
      "\u001b[1;31mMemoryError\u001b[0m: Unable to allocate 4.61 GiB for an array with shape (3864632, 80, 2) and data type float64"
     ]
    },
    {
     "ename": "",
     "evalue": "",
     "output_type": "error",
     "traceback": [
      "\u001b[1;31mThe Kernel crashed while executing code in the current cell or a previous cell. \n",
      "\u001b[1;31mPlease review the code in the cell(s) to identify a possible cause of the failure. \n",
      "\u001b[1;31mClick <a href='https://aka.ms/vscodeJupyterKernelCrash'>here</a> for more info. \n",
      "\u001b[1;31mView Jupyter <a href='command:jupyter.viewOutput'>log</a> for further details."
     ]
    }
   ],
   "source": [
    "from energyflow.archs import PFN\n",
    "Phi_sizes, F_sizes = [100, 100, 128], [100, 100, 100]\n",
    "pfn = PFN(input_dim=2, Phi_sizes=Phi_sizes, F_sizes=F_sizes)\n",
    "# train model\n",
    "pfn.fit(p_train, Y_train,\n",
    "        epochs=5,\n",
    "        batch_size=500, validation_data=(p_val, Y_val),\n",
    "        verbose=1)\n",
    "#fit"
   ]
  },
  {
   "cell_type": "markdown",
   "metadata": {},
   "source": [
    "test function with prongs"
   ]
  },
  {
   "cell_type": "code",
   "execution_count": 12,
   "metadata": {},
   "outputs": [],
   "source": [
    "#these are functions for testing, they take the test data format it with to_efn do the prediction, then filter the predictions according to prongs and give out a dictionary\n",
    "from sklearn.metrics import accuracy_score\n",
    "#prong is a measure for the number of hadrons in the decay\n",
    "prong_1 = [0,1,2,3,4]\n",
    "prong_2 = [5,6,7,8,9]\n",
    "prong_3 = [10,11,12,13,14]\n",
    "prong_other = [15]\n",
    "def from_categorical(Y):\n",
    "    a = []\n",
    "    for i in range(len(Y)):\n",
    "        if Y[i][0]>Y[i][1]:\n",
    "            a.append(0)\n",
    "        else:\n",
    "            a.append(1)\n",
    "    return a\n",
    "def test_result(my_cand_test, a):\n",
    "    _test_phi, _test_rho = to_efn(my_cand_test[\"4momentum\"])\n",
    "    _pred = pfn.predict([_test_rho, _test_phi])\n",
    "    if a == 0:\n",
    "        _true = np.zeros(len(_test_rho))\n",
    "    else:\n",
    "        _true = np.ones(len(_test_rho))\n",
    "    _pred2 = from_categorical(_pred)\n",
    "    df = pd.DataFrame()\n",
    "    df[\"z_true\"] = _true\n",
    "    df[\"z_pred\"] = _pred2\n",
    "    df[\"decay_mode\"] = ak.to_numpy(my_cand_test[\"gen_jet_tau_decaymode\"])\n",
    "    df_prong_1 = df[df[\"decay_mode\"].isin(prong_1)]\n",
    "    df_prong_2 = df[df[\"decay_mode\"].isin(prong_2)]\n",
    "    df_prong_3 = df[df[\"decay_mode\"].isin(prong_3)]\n",
    "    df_prong_other = df[df[\"decay_mode\"].isin(prong_other)]\n",
    "    b = [df_prong_1, df_prong_2, df_prong_3, df_prong_other]\n",
    "    c = {}\n",
    "    for i,x in enumerate(b):\n",
    "        if len(x) != 0:\n",
    "            acc = accuracy_score(y_true=x[\"z_true\"], y_pred=x[\"z_pred\"])\n",
    "            c[f\"prong{i+1}\"] = acc\n",
    "    return df, c"
   ]
  },
  {
   "cell_type": "code",
   "execution_count": 13,
   "metadata": {},
   "outputs": [],
   "source": [
    "qq_test = ak.from_parquet(r\"C:\\Users\\yusuf\\OneDrive\\Masaüstü\\ml for physcis\\my_qqcand_test.parquet\")\n",
    "\n"
   ]
  },
  {
   "cell_type": "code",
   "execution_count": 14,
   "metadata": {},
   "outputs": [],
   "source": [
    "qq_test = qq_test[[\"gen_jet_tau_decaymode\", \"4momentum\"]]\n",
    "zh_test = ak.from_parquet(\"zh_test.parquet\")\n"
   ]
  },
  {
   "cell_type": "code",
   "execution_count": 15,
   "metadata": {},
   "outputs": [],
   "source": [
    "(qq_train, qq_val, qq_test,) = data_split(qq_test, val=0.1, test=0.4, shuffle = True)#have to do a data split for qq because of memory issues"
   ]
  },
  {
   "cell_type": "code",
   "execution_count": 16,
   "metadata": {},
   "outputs": [
    {
     "name": "stdout",
     "output_type": "stream",
     "text": [
      "79584/79584 [==============================] - 302s 4ms/step\n"
     ]
    }
   ],
   "source": [
    "df, acc = test_result(qq_test, 0)\n",
    "#acc_dict_z = test_result(z_test, 1)\n",
    "#acc_dict_z = test_result(z_test, 1)"
   ]
  },
  {
   "cell_type": "code",
   "execution_count": 17,
   "metadata": {},
   "outputs": [
    {
     "data": {
      "text/plain": [
       "0.689728533474484"
      ]
     },
     "execution_count": 17,
     "metadata": {},
     "output_type": "execute_result"
    }
   ],
   "source": [
    "accuracy_score(y_pred=df[\"z_pred\"], y_true=df[\"z_true\"])"
   ]
  },
  {
   "cell_type": "code",
   "execution_count": 18,
   "metadata": {},
   "outputs": [
    {
     "ename": "NameError",
     "evalue": "name 'acc_dict_zh' is not defined",
     "output_type": "error",
     "traceback": [
      "\u001b[1;31m---------------------------------------------------------------------------\u001b[0m",
      "\u001b[1;31mNameError\u001b[0m                                 Traceback (most recent call last)",
      "Cell \u001b[1;32mIn[18], line 1\u001b[0m\n\u001b[1;32m----> 1\u001b[0m \u001b[43macc_dict_zh\u001b[49m\n",
      "\u001b[1;31mNameError\u001b[0m: name 'acc_dict_zh' is not defined"
     ]
    }
   ],
   "source": [
    "acc_dict_zh"
   ]
  },
  {
   "cell_type": "code",
   "execution_count": 37,
   "metadata": {},
   "outputs": [
    {
     "data": {
      "text/plain": [
       "{'prong0': 0.8571370696083919,\n",
       " 'prong2': 0.8086259944836651,\n",
       " 'prong3': 0.80640589569161}"
      ]
     },
     "execution_count": 37,
     "metadata": {},
     "output_type": "execute_result"
    }
   ],
   "source": [
    "acc_dict_z"
   ]
  }
 ],
 "metadata": {
  "kernelspec": {
   "display_name": "activate",
   "language": "python",
   "name": "python3"
  },
  "language_info": {
   "codemirror_mode": {
    "name": "ipython",
    "version": 3
   },
   "file_extension": ".py",
   "mimetype": "text/x-python",
   "name": "python",
   "nbconvert_exporter": "python",
   "pygments_lexer": "ipython3",
   "version": "3.10.11"
  }
 },
 "nbformat": 4,
 "nbformat_minor": 2
}
